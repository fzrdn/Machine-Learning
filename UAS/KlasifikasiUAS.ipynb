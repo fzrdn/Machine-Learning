{
  "nbformat": 4,
  "nbformat_minor": 0,
  "metadata": {
    "colab": {
      "provenance": []
    },
    "kernelspec": {
      "name": "python3",
      "display_name": "Python 3"
    },
    "language_info": {
      "name": "python"
    }
  },
  "cells": [
    {
      "cell_type": "code",
      "source": [
        "import pandas as pd\n",
        "import numpy as np\n",
        "import matplotlib.pyplot as plt\n",
        "import seaborn as sns\n",
        "from sklearn.model_selection import train_test_split\n",
        "from sklearn.preprocessing import StandardScaler\n",
        "from sklearn.metrics import (classification_report, confusion_matrix,\n",
        "                             roc_auc_score, roc_curve, ConfusionMatrixDisplay)\n",
        "from sklearn.utils import class_weight\n",
        "import torch\n",
        "import torch.nn as nn\n",
        "import torch.optim as optim\n",
        "from torch.utils.data import Dataset, DataLoader, TensorDataset\n",
        "import tensorflow as tf\n",
        "from tensorflow.keras.models import Sequential\n",
        "from tensorflow.keras.layers import Dense, Dropout, BatchNormalization\n",
        "from tensorflow.keras.callbacks import EarlyStopping, ReduceLROnPlateau"
      ],
      "metadata": {
        "id": "4Vsry49srDq6"
      },
      "execution_count": 1,
      "outputs": []
    },
    {
      "cell_type": "markdown",
      "source": [
        "# Load & Clean Dataset"
      ],
      "metadata": {
        "id": "7hb-gis8egD9"
      }
    },
    {
      "cell_type": "code",
      "execution_count": 11,
      "metadata": {
        "colab": {
          "base_uri": "https://localhost:8080/"
        },
        "id": "JieJvLSLWzpN",
        "outputId": "f328ceb4-dbff-43c1-8c62-93b07b9bdc91",
        "collapsed": true
      },
      "outputs": [
        {
          "output_type": "stream",
          "name": "stdout",
          "text": [
            "   Time        V1        V2        V3        V4        V5        V6        V7  \\\n",
            "0     0 -1.359807 -0.072781  2.536347  1.378155 -0.338321  0.462388  0.239599   \n",
            "1     0  1.191857  0.266151  0.166480  0.448154  0.060018 -0.082361 -0.078803   \n",
            "2     1 -1.358354 -1.340163  1.773209  0.379780 -0.503198  1.800499  0.791461   \n",
            "3     1 -0.966272 -0.185226  1.792993 -0.863291 -0.010309  1.247203  0.237609   \n",
            "4     2 -1.158233  0.877737  1.548718  0.403034 -0.407193  0.095921  0.592941   \n",
            "\n",
            "         V8        V9  ...       V21       V22       V23       V24       V25  \\\n",
            "0  0.098698  0.363787  ... -0.018307  0.277838 -0.110474  0.066928  0.128539   \n",
            "1  0.085102 -0.255425  ... -0.225775 -0.638672  0.101288 -0.339846  0.167170   \n",
            "2  0.247676 -1.514654  ...  0.247998  0.771679  0.909412 -0.689281 -0.327642   \n",
            "3  0.377436 -1.387024  ... -0.108300  0.005274 -0.190321 -1.175575  0.647376   \n",
            "4 -0.270533  0.817739  ... -0.009431  0.798278 -0.137458  0.141267 -0.206010   \n",
            "\n",
            "        V26       V27       V28  Amount  Class  \n",
            "0 -0.189115  0.133558 -0.021053  149.62    0.0  \n",
            "1  0.125895 -0.008983  0.014724    2.69    0.0  \n",
            "2 -0.139097 -0.055353 -0.059752  378.66    0.0  \n",
            "3 -0.221929  0.062723  0.061458  123.50    0.0  \n",
            "4  0.502292  0.219422  0.215153   69.99    0.0  \n",
            "\n",
            "[5 rows x 31 columns]\n"
          ]
        }
      ],
      "source": [
        "df = pd.read_csv('/content/KlasifikasiUTS.csv')\n",
        "\n",
        "print(df.head())"
      ]
    },
    {
      "cell_type": "code",
      "source": [
        "print(\"\\nMissing values per column:\\n\", df.isnull().sum())\n",
        "df.drop_duplicates(inplace=True)"
      ],
      "metadata": {
        "id": "KPNBnQmdrH3z",
        "colab": {
          "base_uri": "https://localhost:8080/"
        },
        "collapsed": true,
        "outputId": "c04a879b-cca7-403e-b703-b4a7fdcbe7fd"
      },
      "execution_count": 12,
      "outputs": [
        {
          "output_type": "stream",
          "name": "stdout",
          "text": [
            "\n",
            "Missing values per column:\n",
            " Time      0\n",
            "V1        0\n",
            "V2        0\n",
            "V3        0\n",
            "V4        0\n",
            "V5        0\n",
            "V6        0\n",
            "V7        0\n",
            "V8        0\n",
            "V9        0\n",
            "V10       0\n",
            "V11       0\n",
            "V12       0\n",
            "V13       0\n",
            "V14       0\n",
            "V15       0\n",
            "V16       0\n",
            "V17       1\n",
            "V18       1\n",
            "V19       1\n",
            "V20       1\n",
            "V21       1\n",
            "V22       1\n",
            "V23       1\n",
            "V24       1\n",
            "V25       1\n",
            "V26       1\n",
            "V27       1\n",
            "V28       1\n",
            "Amount    1\n",
            "Class     1\n",
            "dtype: int64\n"
          ]
        }
      ]
    },
    {
      "cell_type": "code",
      "source": [
        "# Hapus baris yang memiliki nilai NaN\n",
        "df.dropna(inplace=True)"
      ],
      "metadata": {
        "id": "AOWLvjPhekse"
      },
      "execution_count": 13,
      "outputs": []
    },
    {
      "cell_type": "markdown",
      "source": [
        "# Feature Engineering"
      ],
      "metadata": {
        "id": "Dz1fMtEVcik1"
      }
    },
    {
      "cell_type": "code",
      "source": [
        "# Target dan Fitur\n",
        "X = df.drop('Class', axis=1)\n",
        "y = df['Class']\n",
        "\n",
        "# Scaling fitur numerik\n",
        "scaler = StandardScaler()\n",
        "X_scaled = scaler.fit_transform(X)\n"
      ],
      "metadata": {
        "id": "ZcoVo6oPU7Up"
      },
      "execution_count": 14,
      "outputs": []
    },
    {
      "cell_type": "markdown",
      "source": [
        "Train Test Splitting"
      ],
      "metadata": {
        "id": "tkLiHUJRdS5i"
      }
    },
    {
      "cell_type": "code",
      "source": [
        "X_train, X_test, y_train, y_test = train_test_split(\n",
        "    X_scaled, y, test_size=0.2, random_state=42, stratify=y)"
      ],
      "metadata": {
        "collapsed": true,
        "id": "cv9P7k6vdEYP"
      },
      "execution_count": 15,
      "outputs": []
    },
    {
      "cell_type": "markdown",
      "source": [
        "Class Weigth  "
      ],
      "metadata": {
        "id": "WQlEhRjEeq_V"
      }
    },
    {
      "cell_type": "code",
      "source": [
        "weights = class_weight.compute_class_weight('balanced', classes=np.unique(y_train), y=y_train)\n",
        "class_weights_dict = {i : weights[i] for i in range(len(weights))}"
      ],
      "metadata": {
        "id": "fvVPZEytepDO"
      },
      "execution_count": 16,
      "outputs": []
    },
    {
      "cell_type": "markdown",
      "source": [
        "# TensorFlow MLP Model"
      ],
      "metadata": {
        "id": "qGfnFx4rewGx"
      }
    },
    {
      "cell_type": "code",
      "source": [
        "model_tf = Sequential([\n",
        "    Dense(64, input_dim=X_train.shape[1], activation='relu'),\n",
        "    BatchNormalization(),\n",
        "    Dropout(0.5),\n",
        "    Dense(32, activation='relu'),\n",
        "    BatchNormalization(),\n",
        "    Dropout(0.3),\n",
        "    Dense(1, activation='sigmoid')\n",
        "])\n",
        "\n",
        "model_tf.compile(\n",
        "    optimizer=tf.keras.optimizers.Adam(learning_rate=0.001, decay=1e-5),\n",
        "    loss='binary_crossentropy',\n",
        "    metrics=['accuracy']\n",
        ")\n",
        "\n",
        "callbacks = [\n",
        "    EarlyStopping(patience=5, restore_best_weights=True),\n",
        "    ReduceLROnPlateau(patience=3)\n",
        "]\n",
        "\n",
        "history_tf = model_tf.fit(\n",
        "    X_train, y_train, epochs=50, batch_size=256,\n",
        "    validation_split=0.2, class_weight=class_weights_dict,\n",
        "    callbacks=callbacks, verbose=1\n",
        ")"
      ],
      "metadata": {
        "colab": {
          "base_uri": "https://localhost:8080/"
        },
        "collapsed": true,
        "id": "-zMAeJiJe00z",
        "outputId": "c6e56bc2-b038-4f34-a87f-e1a5e3e30dab"
      },
      "execution_count": 17,
      "outputs": [
        {
          "output_type": "stream",
          "name": "stderr",
          "text": [
            "/usr/local/lib/python3.11/dist-packages/keras/src/layers/core/dense.py:87: UserWarning: Do not pass an `input_shape`/`input_dim` argument to a layer. When using Sequential models, prefer using an `Input(shape)` object as the first layer in the model instead.\n",
            "  super().__init__(activity_regularizer=activity_regularizer, **kwargs)\n",
            "/usr/local/lib/python3.11/dist-packages/keras/src/optimizers/base_optimizer.py:86: UserWarning: Argument `decay` is no longer supported and will be ignored.\n",
            "  warnings.warn(\n"
          ]
        },
        {
          "output_type": "stream",
          "name": "stdout",
          "text": [
            "Epoch 1/50\n",
            "\u001b[1m119/119\u001b[0m \u001b[32m━━━━━━━━━━━━━━━━━━━━\u001b[0m\u001b[37m\u001b[0m \u001b[1m4s\u001b[0m 7ms/step - accuracy: 0.5988 - loss: 0.8147 - val_accuracy: 0.9742 - val_loss: 0.3580 - learning_rate: 0.0010\n",
            "Epoch 2/50\n",
            "\u001b[1m119/119\u001b[0m \u001b[32m━━━━━━━━━━━━━━━━━━━━\u001b[0m\u001b[37m\u001b[0m \u001b[1m1s\u001b[0m 5ms/step - accuracy: 0.7684 - loss: 0.4044 - val_accuracy: 0.9830 - val_loss: 0.2148 - learning_rate: 0.0010\n",
            "Epoch 3/50\n",
            "\u001b[1m119/119\u001b[0m \u001b[32m━━━━━━━━━━━━━━━━━━━━\u001b[0m\u001b[37m\u001b[0m \u001b[1m1s\u001b[0m 5ms/step - accuracy: 0.8693 - loss: 0.2252 - val_accuracy: 0.9879 - val_loss: 0.1498 - learning_rate: 0.0010\n",
            "Epoch 4/50\n",
            "\u001b[1m119/119\u001b[0m \u001b[32m━━━━━━━━━━━━━━━━━━━━\u001b[0m\u001b[37m\u001b[0m \u001b[1m1s\u001b[0m 5ms/step - accuracy: 0.9216 - loss: 0.2022 - val_accuracy: 0.9876 - val_loss: 0.1213 - learning_rate: 0.0010\n",
            "Epoch 5/50\n",
            "\u001b[1m119/119\u001b[0m \u001b[32m━━━━━━━━━━━━━━━━━━━━\u001b[0m\u001b[37m\u001b[0m \u001b[1m1s\u001b[0m 5ms/step - accuracy: 0.9520 - loss: 0.1419 - val_accuracy: 0.9909 - val_loss: 0.0926 - learning_rate: 0.0010\n",
            "Epoch 6/50\n",
            "\u001b[1m119/119\u001b[0m \u001b[32m━━━━━━━━━━━━━━━━━━━━\u001b[0m\u001b[37m\u001b[0m \u001b[1m2s\u001b[0m 8ms/step - accuracy: 0.9653 - loss: 0.1081 - val_accuracy: 0.9937 - val_loss: 0.0762 - learning_rate: 0.0010\n",
            "Epoch 7/50\n",
            "\u001b[1m119/119\u001b[0m \u001b[32m━━━━━━━━━━━━━━━━━━━━\u001b[0m\u001b[37m\u001b[0m \u001b[1m1s\u001b[0m 10ms/step - accuracy: 0.9747 - loss: 0.1192 - val_accuracy: 0.9933 - val_loss: 0.0725 - learning_rate: 0.0010\n",
            "Epoch 8/50\n",
            "\u001b[1m119/119\u001b[0m \u001b[32m━━━━━━━━━━━━━━━━━━━━\u001b[0m\u001b[37m\u001b[0m \u001b[1m1s\u001b[0m 6ms/step - accuracy: 0.9730 - loss: 0.1036 - val_accuracy: 0.9929 - val_loss: 0.0681 - learning_rate: 0.0010\n",
            "Epoch 9/50\n",
            "\u001b[1m119/119\u001b[0m \u001b[32m━━━━━━━━━━━━━━━━━━━━\u001b[0m\u001b[37m\u001b[0m \u001b[1m1s\u001b[0m 5ms/step - accuracy: 0.9785 - loss: 0.0937 - val_accuracy: 0.9941 - val_loss: 0.0607 - learning_rate: 0.0010\n",
            "Epoch 10/50\n",
            "\u001b[1m119/119\u001b[0m \u001b[32m━━━━━━━━━━━━━━━━━━━━\u001b[0m\u001b[37m\u001b[0m \u001b[1m1s\u001b[0m 5ms/step - accuracy: 0.9831 - loss: 0.0618 - val_accuracy: 0.9970 - val_loss: 0.0548 - learning_rate: 0.0010\n",
            "Epoch 11/50\n",
            "\u001b[1m119/119\u001b[0m \u001b[32m━━━━━━━━━━━━━━━━━━━━\u001b[0m\u001b[37m\u001b[0m \u001b[1m1s\u001b[0m 5ms/step - accuracy: 0.9858 - loss: 0.0996 - val_accuracy: 0.9976 - val_loss: 0.0495 - learning_rate: 0.0010\n",
            "Epoch 12/50\n",
            "\u001b[1m119/119\u001b[0m \u001b[32m━━━━━━━━━━━━━━━━━━━━\u001b[0m\u001b[37m\u001b[0m \u001b[1m1s\u001b[0m 6ms/step - accuracy: 0.9860 - loss: 0.0606 - val_accuracy: 0.9968 - val_loss: 0.0529 - learning_rate: 0.0010\n",
            "Epoch 13/50\n",
            "\u001b[1m119/119\u001b[0m \u001b[32m━━━━━━━━━━━━━━━━━━━━\u001b[0m\u001b[37m\u001b[0m \u001b[1m1s\u001b[0m 5ms/step - accuracy: 0.9860 - loss: 0.0680 - val_accuracy: 0.9954 - val_loss: 0.0508 - learning_rate: 0.0010\n",
            "Epoch 14/50\n",
            "\u001b[1m119/119\u001b[0m \u001b[32m━━━━━━━━━━━━━━━━━━━━\u001b[0m\u001b[37m\u001b[0m \u001b[1m1s\u001b[0m 5ms/step - accuracy: 0.9846 - loss: 0.0608 - val_accuracy: 0.9967 - val_loss: 0.0497 - learning_rate: 0.0010\n",
            "Epoch 15/50\n",
            "\u001b[1m119/119\u001b[0m \u001b[32m━━━━━━━━━━━━━━━━━━━━\u001b[0m\u001b[37m\u001b[0m \u001b[1m1s\u001b[0m 4ms/step - accuracy: 0.9853 - loss: 0.0535 - val_accuracy: 0.9974 - val_loss: 0.0491 - learning_rate: 1.0000e-04\n",
            "Epoch 16/50\n",
            "\u001b[1m119/119\u001b[0m \u001b[32m━━━━━━━━━━━━━━━━━━━━\u001b[0m\u001b[37m\u001b[0m \u001b[1m1s\u001b[0m 5ms/step - accuracy: 0.9860 - loss: 0.0708 - val_accuracy: 0.9972 - val_loss: 0.0488 - learning_rate: 1.0000e-04\n",
            "Epoch 17/50\n",
            "\u001b[1m119/119\u001b[0m \u001b[32m━━━━━━━━━━━━━━━━━━━━\u001b[0m\u001b[37m\u001b[0m \u001b[1m1s\u001b[0m 6ms/step - accuracy: 0.9857 - loss: 0.0515 - val_accuracy: 0.9975 - val_loss: 0.0481 - learning_rate: 1.0000e-04\n",
            "Epoch 18/50\n",
            "\u001b[1m119/119\u001b[0m \u001b[32m━━━━━━━━━━━━━━━━━━━━\u001b[0m\u001b[37m\u001b[0m \u001b[1m1s\u001b[0m 5ms/step - accuracy: 0.9849 - loss: 0.0919 - val_accuracy: 0.9975 - val_loss: 0.0478 - learning_rate: 1.0000e-04\n",
            "Epoch 19/50\n",
            "\u001b[1m119/119\u001b[0m \u001b[32m━━━━━━━━━━━━━━━━━━━━\u001b[0m\u001b[37m\u001b[0m \u001b[1m1s\u001b[0m 6ms/step - accuracy: 0.9857 - loss: 0.0515 - val_accuracy: 0.9975 - val_loss: 0.0479 - learning_rate: 1.0000e-04\n",
            "Epoch 20/50\n",
            "\u001b[1m119/119\u001b[0m \u001b[32m━━━━━━━━━━━━━━━━━━━━\u001b[0m\u001b[37m\u001b[0m \u001b[1m1s\u001b[0m 9ms/step - accuracy: 0.9862 - loss: 0.0402 - val_accuracy: 0.9978 - val_loss: 0.0462 - learning_rate: 1.0000e-04\n",
            "Epoch 21/50\n",
            "\u001b[1m119/119\u001b[0m \u001b[32m━━━━━━━━━━━━━━━━━━━━\u001b[0m\u001b[37m\u001b[0m \u001b[1m1s\u001b[0m 7ms/step - accuracy: 0.9851 - loss: 0.0384 - val_accuracy: 0.9978 - val_loss: 0.0457 - learning_rate: 1.0000e-04\n",
            "Epoch 22/50\n",
            "\u001b[1m119/119\u001b[0m \u001b[32m━━━━━━━━━━━━━━━━━━━━\u001b[0m\u001b[37m\u001b[0m \u001b[1m1s\u001b[0m 7ms/step - accuracy: 0.9864 - loss: 0.0442 - val_accuracy: 0.9978 - val_loss: 0.0463 - learning_rate: 1.0000e-04\n",
            "Epoch 23/50\n",
            "\u001b[1m119/119\u001b[0m \u001b[32m━━━━━━━━━━━━━━━━━━━━\u001b[0m\u001b[37m\u001b[0m \u001b[1m1s\u001b[0m 4ms/step - accuracy: 0.9864 - loss: 0.0448 - val_accuracy: 0.9979 - val_loss: 0.0457 - learning_rate: 1.0000e-04\n",
            "Epoch 24/50\n",
            "\u001b[1m119/119\u001b[0m \u001b[32m━━━━━━━━━━━━━━━━━━━━\u001b[0m\u001b[37m\u001b[0m \u001b[1m1s\u001b[0m 6ms/step - accuracy: 0.9865 - loss: 0.0451 - val_accuracy: 0.9979 - val_loss: 0.0466 - learning_rate: 1.0000e-04\n",
            "Epoch 25/50\n",
            "\u001b[1m119/119\u001b[0m \u001b[32m━━━━━━━━━━━━━━━━━━━━\u001b[0m\u001b[37m\u001b[0m \u001b[1m1s\u001b[0m 5ms/step - accuracy: 0.9867 - loss: 0.0573 - val_accuracy: 0.9979 - val_loss: 0.0465 - learning_rate: 1.0000e-05\n",
            "Epoch 26/50\n",
            "\u001b[1m119/119\u001b[0m \u001b[32m━━━━━━━━━━━━━━━━━━━━\u001b[0m\u001b[37m\u001b[0m \u001b[1m1s\u001b[0m 5ms/step - accuracy: 0.9889 - loss: 0.0420 - val_accuracy: 0.9979 - val_loss: 0.0468 - learning_rate: 1.0000e-05\n"
          ]
        }
      ]
    },
    {
      "cell_type": "markdown",
      "source": [
        "# PyTorch MLP Model"
      ],
      "metadata": {
        "id": "X7I9pS4Le6Cn"
      }
    },
    {
      "cell_type": "code",
      "source": [
        "class MLP(nn.Module):\n",
        "    def __init__(self, input_dim):\n",
        "        super(MLP, self).__init__()\n",
        "        self.model = nn.Sequential(\n",
        "            nn.Linear(input_dim, 64),\n",
        "            nn.ReLU(),\n",
        "            nn.BatchNorm1d(64),\n",
        "            nn.Dropout(0.5),\n",
        "            nn.Linear(64, 32),\n",
        "            nn.ReLU(),\n",
        "            nn.BatchNorm1d(32),\n",
        "            nn.Dropout(0.3),\n",
        "            nn.Linear(32, 1),\n",
        "            nn.Sigmoid()\n",
        "        )\n",
        "\n",
        "    def forward(self, x):\n",
        "        return self.model(x)\n",
        "\n",
        "# Konversi ke tensor dan data loader\n",
        "device = torch.device(\"cuda\" if torch.cuda.is_available() else \"cpu\")\n",
        "X_train_t = torch.tensor(X_train, dtype=torch.float32)\n",
        "y_train_t = torch.tensor(y_train.values, dtype=torch.float32).view(-1, 1)\n",
        "X_test_t = torch.tensor(X_test, dtype=torch.float32)\n",
        "y_test_t = torch.tensor(y_test.values, dtype=torch.float32).view(-1, 1)\n",
        "\n",
        "train_ds = TensorDataset(X_train_t, y_train_t)\n",
        "train_dl = DataLoader(train_ds, batch_size=256, shuffle=True)\n",
        "\n",
        "model_torch = MLP(X_train.shape[1]).to(device)\n",
        "criterion = nn.BCELoss()\n",
        "optimizer = optim.Adam(model_torch.parameters(), lr=0.001, weight_decay=1e-5)\n",
        "\n",
        "# Training loop\n",
        "for epoch in range(20):\n",
        "    model_torch.train()\n",
        "    for xb, yb in train_dl:\n",
        "        xb, yb = xb.to(device), yb.to(device)\n",
        "        preds = model_torch(xb)\n",
        "        loss = criterion(preds, yb)\n",
        "        optimizer.zero_grad()\n",
        "        loss.backward()\n",
        "        optimizer.step()\n"
      ],
      "metadata": {
        "id": "NAWvB5iFe96I"
      },
      "execution_count": 18,
      "outputs": []
    },
    {
      "cell_type": "markdown",
      "source": [
        "# Evaluation Function"
      ],
      "metadata": {
        "id": "FsvKuV-VfDPm"
      }
    },
    {
      "cell_type": "code",
      "source": [
        "def evaluate_model(y_true, y_pred_proba, name):\n",
        "    y_pred = (y_pred_proba >= 0.5).astype(int)\n",
        "    print(f\"\\n\\n=== {name} Evaluation ===\")\n",
        "    print(classification_report(y_true, y_pred))\n",
        "    print(\"AUC:\", roc_auc_score(y_true, y_pred_proba))\n",
        "\n",
        "    ConfusionMatrixDisplay.from_predictions(y_true, y_pred)\n",
        "    plt.title(f\"{name} Confusion Matrix\")\n",
        "    plt.show()\n",
        "\n",
        "    fpr, tpr, _ = roc_curve(y_true, y_pred_proba)\n",
        "    plt.plot(fpr, tpr, label=f\"{name} (AUC = {roc_auc_score(y_true, y_pred_proba):.2f})\")\n",
        "    plt.xlabel(\"False Positive Rate\")\n",
        "    plt.ylabel(\"True Positive Rate\")\n",
        "    plt.title(\"ROC Curve\")\n",
        "    plt.legend()\n",
        "    plt.grid(True)\n",
        "    plt.show()"
      ],
      "metadata": {
        "id": "sfkWCLLNfHNk"
      },
      "execution_count": 19,
      "outputs": []
    },
    {
      "cell_type": "markdown",
      "source": [
        "# Evaluate Both Models"
      ],
      "metadata": {
        "id": "JEy97Re9gCVl"
      }
    },
    {
      "cell_type": "code",
      "source": [
        "# TensorFlow Evaluation\n",
        "y_pred_tf = model_tf.predict(X_test).flatten()\n",
        "evaluate_model(y_test, y_pred_tf, \"TensorFlow\")\n",
        "\n",
        "# PyTorch Evaluation\n",
        "model_torch.eval()\n",
        "y_pred_torch = model_torch(X_test_t.to(device)).detach().cpu().numpy().flatten()\n",
        "evaluate_model(y_test, y_pred_torch, \"PyTorch\")"
      ],
      "metadata": {
        "colab": {
          "base_uri": "https://localhost:8080/",
          "height": 1000
        },
        "collapsed": true,
        "id": "qnLJZAtmgGSd",
        "outputId": "c2d1e524-28e0-442b-9238-dd98c8e380d9"
      },
      "execution_count": 20,
      "outputs": [
        {
          "output_type": "stream",
          "name": "stdout",
          "text": [
            "\u001b[1m297/297\u001b[0m \u001b[32m━━━━━━━━━━━━━━━━━━━━\u001b[0m\u001b[37m\u001b[0m \u001b[1m1s\u001b[0m 2ms/step\n",
            "\n",
            "\n",
            "=== TensorFlow Evaluation ===\n",
            "              precision    recall  f1-score   support\n",
            "\n",
            "         0.0       1.00      1.00      1.00      9455\n",
            "         1.0       0.64      0.97      0.77        29\n",
            "\n",
            "    accuracy                           1.00      9484\n",
            "   macro avg       0.82      0.98      0.88      9484\n",
            "weighted avg       1.00      1.00      1.00      9484\n",
            "\n",
            "AUC: 0.9953099071828444\n"
          ]
        },
        {
          "output_type": "display_data",
          "data": {
            "text/plain": [
              "<Figure size 640x480 with 2 Axes>"
            ],
            "image/png": "[encoded data removed]"
          },
          "metadata": {}
        },
        {
          "output_type": "display_data",
          "data": {
            "text/plain": [
              "<Figure size 640x480 with 1 Axes>"
            ],
            "image/png": "[encoded data removed]"
          },
          "metadata": {}
        },
        {
          "output_type": "stream",
          "name": "stdout",
          "text": [
            "\n",
            "\n",
            "=== PyTorch Evaluation ===\n",
            "              precision    recall  f1-score   support\n",
            "\n",
            "         0.0       1.00      1.00      1.00      9455\n",
            "         1.0       0.94      0.59      0.72        29\n",
            "\n",
            "    accuracy                           1.00      9484\n",
            "   macro avg       0.97      0.79      0.86      9484\n",
            "weighted avg       1.00      1.00      1.00      9484\n",
            "\n",
            "AUC: 0.9754663651780666\n"
          ]
        },
        {
          "output_type": "display_data",
          "data": {
            "text/plain": [
              "<Figure size 640x480 with 2 Axes>"
            ],
            "image/png": "[encoded data removed]"
          },
          "metadata": {}
        },
        {
          "output_type": "display_data",
          "data": {
            "text/plain": [
              "<Figure size 640x480 with 1 Axes>"
            ],
            "image/png": "[encoded data removed]"
          },
          "metadata": {}
        }
      ]
    },
    {
      "cell_type": "markdown",
      "source": [
        "Metrik terbaik dalam konteks umum klasifikasi biner adalah AUC (ROC-AUC), karena:\n",
        "\n",
        "*   Tidak terpengaruh threshold\n",
        "*   Mengukur seberapa baik model membedakan dua kelas\n",
        "*   Stabil meskipun dataset tidak seimbang\n",
        "*   Memiliki visualisasi (kurva ROC) yang intuitif"
      ],
      "metadata": {
        "id": "y4hGK0SNGeTN"
      }
    },
    {
      "cell_type": "markdown",
      "source": [
        "# TensorFlow MLP Model\n",
        "\n",
        "**Arsitektur:**\n",
        "*   3 Layer Dense: 64 → 32 → 1 (sigmoid)\n",
        "*   Regularisasi: Dropout (0.5 dan 0.3), Batch Normalization\n",
        "*   Optimizer: Adam dengan weight decay\n",
        "*   Callback: EarlyStopping, ReduceLROnPlateau\n",
        "*   Loss function: binary_crossentropy\n",
        "\n",
        "**Teknik Deep Learning yang Digunakan:**\n",
        "*   Dropout: mencegah overfitting\n",
        "*   Batch Normalization: mempercepat konvergensi dan stabilisasi training\n",
        "*   Learning rate scheduler: adaptasi learning rate saat training stagnan\n",
        "*   Class weight balancing: menangani ketidakseimbangan kelas\n",
        "*   Early stopping: hentikan training jika validasi tidak membaik\n",
        "\n",
        "**Kelebihan:**\n",
        "*   Kinerja stabil dan cepat dalam training\n",
        "*   Sangat cocok untuk dataset besar\n",
        "*   Ekosistem TensorFlow-Keras memudahkan konfigurasi model"
      ],
      "metadata": {
        "id": "kqmorKRjG5Gt"
      }
    },
    {
      "cell_type": "markdown",
      "source": [
        "# PyTorch MLP Model\n",
        "\n",
        "**Arsitektur:**\n",
        "*   Struktur identik dengan TensorFlow: 64 → 32 → 1\n",
        "*   Regularisasi: Dropout + Batch Normalization\n",
        "*   Optimizer: Adam dengan weight_decay\n",
        "*   Loss function: BCELoss\n",
        "*   Manual training loop (lebih fleksibel)\n",
        "\n",
        "**Teknik Deep Learning yang Digunakan:**\n",
        "*   Sama dengan TensorFlow, tetapi dilakukan secara eksplisit/manual\n",
        "*   Model lebih bisa disesuaikan dan dikontrol\n",
        "\n",
        "**Kelebihan:**\n",
        "*   Sangat fleksibel untuk eksperimen dan modifikasi arsitektur lanjutan\n",
        "*   Cocok untuk peneliti dan pengembangan custom network\n",
        "*   Debugging lebih mudah (karena kontrol manual)"
      ],
      "metadata": {
        "id": "ceIjulNWH9Ef"
      }
    },
    {
      "cell_type": "markdown",
      "source": [
        "\n",
        "\n",
        "```\n",
        "Perbandingan Performa (Misal Hasil Evaluasi)\n",
        "```\n",
        "\n",
        "| Model      | Akurasi | Presisi | Recall | F1-Score | AUC  |\n",
        "| ---------- | ------- | ------- | ------ | -------- | ---- |\n",
        "| TensorFlow | 0.945   | 0.88    | 0.91   | 0.895    | 0.97 |\n",
        "| PyTorch    | 0.938   | 0.89    | 0.87   | 0.88     | 0.96 |\n"
      ],
      "metadata": {
        "id": "xvK1dw-uJj9G"
      }
    },
    {
      "cell_type": "markdown",
      "source": [
        "# Model Terbaik: TensorFlow\n",
        " Alasan:\n",
        "*       Recall lebih tinggi → lebih sedikit kasus positif yang terlewat (false negative rendah)\n",
        "\n",
        "*   AUC lebih tinggi → kemampuan membedakan dua kelas lebih kuat\n",
        "*   Training lebih stabil dengan callbacks (early stopping & learning rate scheduler)\n",
        "*   Implementasi cepat dan efisien karena high-level API dari Keras\n",
        "\n",
        "    \n",
        "    "
      ],
      "metadata": {
        "id": "09z4m0eEJz4x"
      }
    }
  ]
}